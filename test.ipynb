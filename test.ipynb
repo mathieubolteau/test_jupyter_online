{
 "cells": [
  {
   "cell_type": "code",
   "execution_count": 1,
   "metadata": {},
   "outputs": [
    {
     "name": "stdout",
     "output_type": "stream",
     "text": [
      "Defaulting to user installation because normal site-packages is not writeable\n",
      "Requirement already satisfied: clingo in /home/e21g017n/.local/lib/python3.10/site-packages (5.7.1)\n",
      "Requirement already satisfied: cffi in /home/e21g017n/.local/lib/python3.10/site-packages (from clingo) (1.16.0)\n",
      "Requirement already satisfied: pycparser in /home/e21g017n/.local/lib/python3.10/site-packages (from cffi->clingo) (2.22)\n"
     ]
    }
   ],
   "source": [
    "!pip install clingo"
   ]
  },
  {
   "cell_type": "code",
   "execution_count": 2,
   "metadata": {},
   "outputs": [
    {
     "name": "stdout",
     "output_type": "stream",
     "text": [
      "\n",
      "Optimization: 0\n",
      "sel_pert(c3,g1,1,late_TE)\n",
      "Optimization: -1\n",
      "sel_pert(c3,g1,1,late_TE) sel_pert(c2,g2,1,medium_TE)\n",
      "Optimization: -2\n",
      "sel_pert(c3,g1,1,late_TE) sel_pert(c2,g2,1,medium_TE) sel_pert(c3,g2,1,late_TE)\n",
      "Optimization: -3\n",
      "sel_pert(c2,g1,0,medium_TE) sel_pert(c3,g1,1,late_TE) sel_pert(c2,g2,1,medium_TE) sel_pert(c3,g2,1,late_TE)\n",
      "Optimization: -4\n",
      "OPTIMUM FOUND\n"
     ]
    }
   ],
   "source": [
    "%%clingo -V0 0\n",
    "cell(c1).\n",
    "cell(c2).\n",
    "cell(c3).\n",
    "class(early_TE).\n",
    "class(medium_TE).\n",
    "class(late_TE).\n",
    "be_part(c1,early_TE).\n",
    "be_part(c2,medium_TE).\n",
    "be_part(c3,late_TE).\n",
    "gene(g1).\n",
    "gene(g2).\n",
    "expr(c1,g1,0).\n",
    "expr(c1,g2,0).\n",
    "expr(c2,g1,0).\n",
    "expr(c2,g2,1).\n",
    "expr(c3,g1,1).\n",
    "expr(c3,g2,1).\n",
    "pert(C,G,S,CL) :- expr(C,G,S), cell(C), gene(G), be_part(C,CL).\n",
    "{sel_pert(C,G,S,CL) : pert(C,G,S,CL)}.\n",
    ":- sel_pert(_,_,_,early_TE).\n",
    "#maximize{1,C,G: sel_pert(C,G,_,_), pert(C,G,_,_)}.\n",
    "#show sel_pert/4.\n"
   ]
  }
 ],
 "metadata": {
  "kernelspec": {
   "display_name": "Python 3",
   "language": "python",
   "name": "python3"
  },
  "language_info": {
   "codemirror_mode": {
    "name": "ipython",
    "version": 3
   },
   "file_extension": ".py",
   "mimetype": "text/x-python",
   "name": "python",
   "nbconvert_exporter": "python",
   "pygments_lexer": "ipython3",
   "version": "3.10.12"
  }
 },
 "nbformat": 4,
 "nbformat_minor": 2
}
