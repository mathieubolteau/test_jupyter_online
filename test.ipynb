{
 "cells": [
  {
   "cell_type": "code",
   "execution_count": 3,
   "metadata": {},
   "outputs": [
    {
     "name": "stdout",
     "output_type": "stream",
     "text": [
      "Writing example1.lp\n"
     ]
    }
   ],
   "source": [
    "%%file example1.lp\n",
    "cell(c1).\n",
    "cell(c2).\n",
    "cell(c3).\n",
    "class(early_TE).\n",
    "class(medium_TE).\n",
    "class(late_TE).\n",
    "be_part(c1,early_TE).\n",
    "be_part(c2,medium_TE).\n",
    "be_part(c3,late_TE).\n",
    "gene(g1).\n",
    "gene(g2).\n",
    "expr(c1,g1,0).\n",
    "expr(c1,g2,0).\n",
    "expr(c2,g1,0).\n",
    "expr(c2,g2,1).\n",
    "expr(c3,g1,1).\n",
    "expr(c3,g2,1).\n",
    "pert(C,G,S,CL) :- expr(C,G,S), cell(C), gene(G), be_part(C,CL).\n",
    "{sel_pert(C,G,S,CL) : pert(C,G,S,CL)}.\n",
    ":- sel_pert(_,_,_,early_TE).\n",
    "#maximize{1,C,G: sel_pert(C,G,_,_), pert(C,G,_,_)}.\n",
    "#show sel_pert/4.\n"
   ]
  },
  {
   "cell_type": "code",
   "execution_count": 4,
   "metadata": {},
   "outputs": [
    {
     "name": "stdout",
     "output_type": "stream",
     "text": [
      "clingo version 5.4.1\n",
      "Reading from example1.lp\n",
      "Solving...\n",
      "Answer: 1\n",
      "\n",
      "Optimization: 0\n",
      "Answer: 2\n",
      "sel_pert(c3,g1,1,late_TE)\n",
      "Optimization: -1\n",
      "Answer: 3\n",
      "sel_pert(c3,g1,1,late_TE) sel_pert(c2,g2,1,medium_TE)\n",
      "Optimization: -2\n",
      "Answer: 4\n",
      "sel_pert(c3,g1,1,late_TE) sel_pert(c2,g2,1,medium_TE) sel_pert(c3,g2,1,late_TE)\n",
      "Optimization: -3\n",
      "Answer: 5\n",
      "sel_pert(c2,g1,0,medium_TE) sel_pert(c3,g1,1,late_TE) sel_pert(c2,g2,1,medium_TE) sel_pert(c3,g2,1,late_TE)\n",
      "Optimization: -4\n",
      "OPTIMUM FOUND\n",
      "\n",
      "Models       : 5\n",
      "  Optimum    : yes\n",
      "Optimization : -4\n",
      "Calls        : 1\n",
      "Time         : 0.001s (Solving: 0.00s 1st Model: 0.00s Unsat: 0.00s)\n",
      "CPU Time     : 0.001s\n"
     ]
    }
   ],
   "source": [
    "! clingo example1.lp 0"
   ]
  },
  {
   "cell_type": "code",
   "execution_count": 5,
   "metadata": {},
   "outputs": [
    {
     "name": "stdout",
     "output_type": "stream",
     "text": [
      "clingo version 5.4.1\n",
      "Reading from -\n",
      "Solving...\n",
      "Answer: 1\n",
      "\n",
      "Optimization: 0\n",
      "Answer: 2\n",
      "sel_pert(c3,g1,1,late_TE)\n",
      "Optimization: -1\n",
      "Answer: 3\n",
      "sel_pert(c3,g1,1,late_TE) sel_pert(c2,g2,1,medium_TE)\n",
      "Optimization: -2\n",
      "Answer: 4\n",
      "sel_pert(c3,g1,1,late_TE) sel_pert(c2,g2,1,medium_TE) sel_pert(c3,g2,1,late_TE)\n",
      "Optimization: -3\n",
      "Answer: 5\n",
      "sel_pert(c2,g1,0,medium_TE) sel_pert(c3,g1,1,late_TE) sel_pert(c2,g2,1,medium_TE) sel_pert(c3,g2,1,late_TE)\n",
      "Optimization: -4\n",
      "OPTIMUM FOUND\n",
      "\n",
      "Models       : 5\n",
      "  Optimum    : yes\n",
      "Optimization : -4\n",
      "Calls        : 1\n",
      "Time         : 0.001s (Solving: 0.00s 1st Model: 0.00s Unsat: 0.00s)\n",
      "CPU Time     : 0.001s\n"
     ]
    }
   ],
   "source": [
    "%%clingo - 0\n",
    "%%file example1.lp\n",
    "cell(c1).\n",
    "cell(c2).\n",
    "cell(c3).\n",
    "class(early_TE).\n",
    "class(medium_TE).\n",
    "class(late_TE).\n",
    "be_part(c1,early_TE).\n",
    "be_part(c2,medium_TE).\n",
    "be_part(c3,late_TE).\n",
    "gene(g1).\n",
    "gene(g2).\n",
    "expr(c1,g1,0).\n",
    "expr(c1,g2,0).\n",
    "expr(c2,g1,0).\n",
    "expr(c2,g2,1).\n",
    "expr(c3,g1,1).\n",
    "expr(c3,g2,1).\n",
    "pert(C,G,S,CL) :- expr(C,G,S), cell(C), gene(G), be_part(C,CL).\n",
    "{sel_pert(C,G,S,CL) : pert(C,G,S,CL)}.\n",
    ":- sel_pert(_,_,_,early_TE).\n",
    "#maximize{1,C,G: sel_pert(C,G,_,_), pert(C,G,_,_)}.\n",
    "#show sel_pert/4.\n"
   ]
  }
 ],
 "metadata": {
  "kernelspec": {
   "display_name": "Python 3",
   "language": "python",
   "name": "python3"
  },
  "language_info": {
   "codemirror_mode": {
    "name": "ipython",
    "version": 3
   },
   "file_extension": ".py",
   "mimetype": "text/x-python",
   "name": "python",
   "nbconvert_exporter": "python",
   "pygments_lexer": "ipython3",
   "version": "3.10.12"
  }
 },
 "nbformat": 4,
 "nbformat_minor": 2
}
